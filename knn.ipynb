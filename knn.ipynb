{
 "cells": [
  {
   "cell_type": "code",
   "execution_count": 8,
   "metadata": {},
   "outputs": [
    {
     "name": "stdout",
     "output_type": "stream",
     "text": [
      "[[-0.2001112  -0.96828182]]\n",
      "['circulo']\n"
     ]
    }
   ],
   "source": [
    "# Script from https://stackabuse.com/k-nearest-neighbors-algorithm-in-python-and-scikit-learn/\n",
    "\n",
    "import numpy as np\n",
    "import matplotlib.pyplot as plt\n",
    "import pandas as pd\n",
    "from sklearn.model_selection import train_test_split\n",
    "from sklearn.preprocessing import StandardScaler\n",
    "from sklearn.neighbors import KNeighborsClassifier\n",
    "from sklearn.metrics import classification_report, confusion_matrix\n",
    "\n",
    "\n",
    "# Assign colum names to the dataset\n",
    "names = ['x', 'y', 'Class']\n",
    "\n",
    "# Read dataset to pandas dataframe\n",
    "dataset = pd.read_csv('knn.csv', names=names)\n",
    "\n",
    "# print(dataset.head())\n",
    "values = dataset.iloc[:, :-1].values\n",
    "label = dataset.iloc[:, 2].values\n",
    "\n",
    "# values_train, values_test, label_train, label_test = train_test_split(values, label, test_size=0.20)\n",
    "\n",
    "\n",
    "scaler = StandardScaler()\n",
    "scaler.fit(values)\n",
    "\n",
    "values_train = scaler.transform(values)\n",
    "values_test = scaler.transform([[5, 2]])\n",
    "print(values_test)\n",
    "\n",
    "classifier = KNeighborsClassifier(n_neighbors=3)\n",
    "classifier.fit(values_train, label)\n",
    "label_pred = classifier.predict(values_test)\n",
    "print(label_pred)\n",
    "\n",
    "# print(confusion_matrix(label_test, label_pred))\n",
    "# print(classification_report(label_test, label_pred))"
   ]
  }
 ],
 "metadata": {
  "interpreter": {
   "hash": "6a70d322eb4a2508acaf7e452c0abb6ffacdc118b20701742d2d232ac1f2bd60"
  },
  "kernelspec": {
   "display_name": "Python 3.9.1 64-bit",
   "language": "python",
   "name": "python3"
  },
  "language_info": {
   "codemirror_mode": {
    "name": "ipython",
    "version": 3
   },
   "file_extension": ".py",
   "mimetype": "text/x-python",
   "name": "python",
   "nbconvert_exporter": "python",
   "pygments_lexer": "ipython3",
   "version": "3.9.1"
  },
  "orig_nbformat": 4
 },
 "nbformat": 4,
 "nbformat_minor": 2
}
